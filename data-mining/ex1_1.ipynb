{
 "cells": [
  {
   "cell_type": "markdown",
   "metadata": {},
   "source": [
    "1- Faça uma busca por 50 vídeos com a palavra chave 'eleição'. Faça a procura por conteúdos em\n",
    "São Paulo no período do segundo turno da última eleição presidencial. Identifique o vídeo com mais\n",
    "comentários e exiba as informações desse vídeo."
   ]
  },
  {
   "cell_type": "code",
   "execution_count": 26,
   "metadata": {},
   "outputs": [],
   "source": [
    "import os\n",
    "import googleapiclient.discovery\n",
    "from key import api_key\n",
    "\n",
    "os.environ[\"OAUTHLIB_INSECURE_TRANSPORT\"] = \"1\"\n",
    "\n",
    "youtube = googleapiclient.discovery.build(\"youtube\", \"v3\", developerKey=api_key)\n",
    "\n",
    "start_date = \"2022-10-01T00:00:00Z\"\n",
    "end_date = \"2022-10-30T23:59:59Z\"\n",
    "\n",
    "location = '-23.5505, -46.6333'\n",
    "location_radius = '100km'\n",
    "\n",
    "response = youtube.search().list(\n",
    "    q=\"eleição\",\n",
    "    part=\"snippet\",\n",
    "    type=\"video\",\n",
    "    regionCode=\"BR\",\n",
    "    location=location,\n",
    "    locationRadius=location_radius,\n",
    "    publishedAfter=start_date,\n",
    "    publishedBefore=end_date,\n",
    "    maxResults=50\n",
    ").execute()"
   ]
  },
  {
   "cell_type": "code",
   "execution_count": 41,
   "metadata": {},
   "outputs": [],
   "source": [
    "\n",
    "stats = {}\n",
    "for item in response['items']:\n",
    "    id = item['id']['videoId']\n",
    "    stats_response = youtube.videos().list(\n",
    "        part='statistics',\n",
    "        id=id\n",
    "    ).execute()\n",
    "    stats[id] = stats_response[\"items\"][0]['statistics']"
   ]
  },
  {
   "cell_type": "code",
   "execution_count": 54,
   "metadata": {},
   "outputs": [
    {
     "name": "stdout",
     "output_type": "stream",
     "text": [
      "Title: MINHA OPINIÃO SOBRE O PRIMEIRO TURNO 2022!\n",
      "Channel: WEB DIVA TULLA LUANA\n"
     ]
    }
   ],
   "source": [
    "comments = {}\n",
    "for item in response['items']:\n",
    "    id = item['id']['videoId']\n",
    "    comments[id] = int(stats[id]['commentCount']) if 'commentCount' in stats[id] else 0\n",
    "sorted_videos = sorted(response['items'], key=lambda item: comments[item['id']['videoId']], reverse=True)\n",
    "print('Title:', sorted_videos[0]['snippet']['title'])\n",
    "print('Channel:', sorted_videos[0]['snippet']['channelTitle'])"
   ]
  }
 ],
 "metadata": {
  "kernelspec": {
   "display_name": "Python 3",
   "language": "python",
   "name": "python3"
  },
  "language_info": {
   "codemirror_mode": {
    "name": "ipython",
    "version": 3
   },
   "file_extension": ".py",
   "mimetype": "text/x-python",
   "name": "python",
   "nbconvert_exporter": "python",
   "pygments_lexer": "ipython3",
   "version": "3.11.4"
  }
 },
 "nbformat": 4,
 "nbformat_minor": 2
}
